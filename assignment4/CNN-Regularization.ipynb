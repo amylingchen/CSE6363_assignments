{
 "cells": [
  {
   "cell_type": "code",
   "execution_count": 3,
   "id": "1943508f",
   "metadata": {},
   "outputs": [
    {
     "name": "stdout",
     "output_type": "stream",
     "text": [
      "Looking in indexes: https://mirrors.aliyun.com/pypi/simple\n",
      "Requirement already satisfied: pytorch-lightning in ./myenv/lib/python3.10/site-packages (2.3.3)\n",
      "Requirement already satisfied: numpy>=1.17.2 in ./myenv/lib/python3.10/site-packages (from pytorch-lightning) (1.23.5)\n",
      "Requirement already satisfied: torch>=2.0.0 in ./myenv/lib/python3.10/site-packages (from pytorch-lightning) (2.3.1)\n",
      "Requirement already satisfied: tqdm>=4.57.0 in ./myenv/lib/python3.10/site-packages (from pytorch-lightning) (4.66.4)\n",
      "Requirement already satisfied: PyYAML>=5.4 in ./myenv/lib/python3.10/site-packages (from pytorch-lightning) (6.0.1)\n",
      "Requirement already satisfied: fsspec>=2022.5.0 in ./myenv/lib/python3.10/site-packages (from fsspec[http]>=2022.5.0->pytorch-lightning) (2024.6.1)\n",
      "Requirement already satisfied: torchmetrics>=0.7.0 in ./myenv/lib/python3.10/site-packages (from pytorch-lightning) (1.4.0.post0)\n",
      "Requirement already satisfied: packaging>=20.0 in ./myenv/lib/python3.10/site-packages (from pytorch-lightning) (24.1)\n",
      "Requirement already satisfied: typing-extensions>=4.4.0 in ./myenv/lib/python3.10/site-packages (from pytorch-lightning) (4.12.2)\n",
      "Requirement already satisfied: lightning-utilities>=0.10.0 in ./myenv/lib/python3.10/site-packages (from pytorch-lightning) (0.11.6)\n",
      "Requirement already satisfied: aiohttp!=4.0.0a0,!=4.0.0a1 in ./myenv/lib/python3.10/site-packages (from fsspec[http]>=2022.5.0->pytorch-lightning) (3.9.5)\n",
      "Requirement already satisfied: setuptools in ./myenv/lib/python3.10/site-packages (from lightning-utilities>=0.10.0->pytorch-lightning) (65.5.0)\n",
      "Requirement already satisfied: filelock in ./myenv/lib/python3.10/site-packages (from torch>=2.0.0->pytorch-lightning) (3.15.4)\n",
      "Requirement already satisfied: sympy in ./myenv/lib/python3.10/site-packages (from torch>=2.0.0->pytorch-lightning) (1.13.1)\n",
      "Requirement already satisfied: networkx in ./myenv/lib/python3.10/site-packages (from torch>=2.0.0->pytorch-lightning) (3.3)\n",
      "Requirement already satisfied: jinja2 in ./myenv/lib/python3.10/site-packages (from torch>=2.0.0->pytorch-lightning) (3.1.4)\n",
      "Requirement already satisfied: nvidia-cuda-nvrtc-cu12==12.1.105 in ./myenv/lib/python3.10/site-packages (from torch>=2.0.0->pytorch-lightning) (12.1.105)\n",
      "Requirement already satisfied: nvidia-cuda-runtime-cu12==12.1.105 in ./myenv/lib/python3.10/site-packages (from torch>=2.0.0->pytorch-lightning) (12.1.105)\n",
      "Requirement already satisfied: nvidia-cuda-cupti-cu12==12.1.105 in ./myenv/lib/python3.10/site-packages (from torch>=2.0.0->pytorch-lightning) (12.1.105)\n",
      "Requirement already satisfied: nvidia-cudnn-cu12==8.9.2.26 in ./myenv/lib/python3.10/site-packages (from torch>=2.0.0->pytorch-lightning) (8.9.2.26)\n",
      "Requirement already satisfied: nvidia-cublas-cu12==12.1.3.1 in ./myenv/lib/python3.10/site-packages (from torch>=2.0.0->pytorch-lightning) (12.1.3.1)\n",
      "Requirement already satisfied: nvidia-cufft-cu12==11.0.2.54 in ./myenv/lib/python3.10/site-packages (from torch>=2.0.0->pytorch-lightning) (11.0.2.54)\n",
      "Requirement already satisfied: nvidia-curand-cu12==10.3.2.106 in ./myenv/lib/python3.10/site-packages (from torch>=2.0.0->pytorch-lightning) (10.3.2.106)\n",
      "Requirement already satisfied: nvidia-cusolver-cu12==11.4.5.107 in ./myenv/lib/python3.10/site-packages (from torch>=2.0.0->pytorch-lightning) (11.4.5.107)\n",
      "Requirement already satisfied: nvidia-cusparse-cu12==12.1.0.106 in ./myenv/lib/python3.10/site-packages (from torch>=2.0.0->pytorch-lightning) (12.1.0.106)\n",
      "Requirement already satisfied: nvidia-nccl-cu12==2.20.5 in ./myenv/lib/python3.10/site-packages (from torch>=2.0.0->pytorch-lightning) (2.20.5)\n",
      "Requirement already satisfied: nvidia-nvtx-cu12==12.1.105 in ./myenv/lib/python3.10/site-packages (from torch>=2.0.0->pytorch-lightning) (12.1.105)\n",
      "Requirement already satisfied: triton==2.3.1 in ./myenv/lib/python3.10/site-packages (from torch>=2.0.0->pytorch-lightning) (2.3.1)\n",
      "Requirement already satisfied: nvidia-nvjitlink-cu12 in ./myenv/lib/python3.10/site-packages (from nvidia-cusolver-cu12==11.4.5.107->torch>=2.0.0->pytorch-lightning) (12.5.82)\n",
      "Requirement already satisfied: aiosignal>=1.1.2 in ./myenv/lib/python3.10/site-packages (from aiohttp!=4.0.0a0,!=4.0.0a1->fsspec[http]>=2022.5.0->pytorch-lightning) (1.3.1)\n",
      "Requirement already satisfied: attrs>=17.3.0 in ./myenv/lib/python3.10/site-packages (from aiohttp!=4.0.0a0,!=4.0.0a1->fsspec[http]>=2022.5.0->pytorch-lightning) (23.2.0)\n",
      "Requirement already satisfied: frozenlist>=1.1.1 in ./myenv/lib/python3.10/site-packages (from aiohttp!=4.0.0a0,!=4.0.0a1->fsspec[http]>=2022.5.0->pytorch-lightning) (1.4.1)\n",
      "Requirement already satisfied: multidict<7.0,>=4.5 in ./myenv/lib/python3.10/site-packages (from aiohttp!=4.0.0a0,!=4.0.0a1->fsspec[http]>=2022.5.0->pytorch-lightning) (6.0.5)\n",
      "Requirement already satisfied: yarl<2.0,>=1.0 in ./myenv/lib/python3.10/site-packages (from aiohttp!=4.0.0a0,!=4.0.0a1->fsspec[http]>=2022.5.0->pytorch-lightning) (1.9.4)\n",
      "Requirement already satisfied: async-timeout<5.0,>=4.0 in ./myenv/lib/python3.10/site-packages (from aiohttp!=4.0.0a0,!=4.0.0a1->fsspec[http]>=2022.5.0->pytorch-lightning) (4.0.3)\n",
      "Requirement already satisfied: MarkupSafe>=2.0 in ./myenv/lib/python3.10/site-packages (from jinja2->torch>=2.0.0->pytorch-lightning) (2.1.5)\n",
      "Requirement already satisfied: mpmath<1.4,>=1.1.0 in ./myenv/lib/python3.10/site-packages (from sympy->torch>=2.0.0->pytorch-lightning) (1.3.0)\n",
      "Requirement already satisfied: idna>=2.0 in ./myenv/lib/python3.10/site-packages (from yarl<2.0,>=1.0->aiohttp!=4.0.0a0,!=4.0.0a1->fsspec[http]>=2022.5.0->pytorch-lightning) (3.7)\n"
     ]
    }
   ],
   "source": [
    "! pip install pytorch-lightning"
   ]
  },
  {
   "cell_type": "code",
   "execution_count": 4,
   "id": "897176cd",
   "metadata": {},
   "outputs": [
    {
     "name": "stdout",
     "output_type": "stream",
     "text": [
      "Looking in indexes: https://mirrors.aliyun.com/pypi/simple\n",
      "Requirement already satisfied: tensorboard in ./myenv/lib/python3.10/site-packages (2.17.0)\n",
      "Requirement already satisfied: absl-py>=0.4 in ./myenv/lib/python3.10/site-packages (from tensorboard) (2.1.0)\n",
      "Requirement already satisfied: grpcio>=1.48.2 in ./myenv/lib/python3.10/site-packages (from tensorboard) (1.65.1)\n",
      "Requirement already satisfied: markdown>=2.6.8 in ./myenv/lib/python3.10/site-packages (from tensorboard) (3.6)\n",
      "Requirement already satisfied: numpy>=1.12.0 in ./myenv/lib/python3.10/site-packages (from tensorboard) (1.23.5)\n",
      "Requirement already satisfied: protobuf!=4.24.0,<5.0.0,>=3.19.6 in ./myenv/lib/python3.10/site-packages (from tensorboard) (4.25.4)\n",
      "Requirement already satisfied: setuptools>=41.0.0 in ./myenv/lib/python3.10/site-packages (from tensorboard) (65.5.0)\n",
      "Requirement already satisfied: six>1.9 in ./myenv/lib/python3.10/site-packages (from tensorboard) (1.16.0)\n",
      "Requirement already satisfied: tensorboard-data-server<0.8.0,>=0.7.0 in ./myenv/lib/python3.10/site-packages (from tensorboard) (0.7.2)\n",
      "Requirement already satisfied: werkzeug>=1.0.1 in ./myenv/lib/python3.10/site-packages (from tensorboard) (3.0.3)\n",
      "Requirement already satisfied: MarkupSafe>=2.1.1 in ./myenv/lib/python3.10/site-packages (from werkzeug>=1.0.1->tensorboard) (2.1.5)\n"
     ]
    }
   ],
   "source": [
    "! pip install tensorboard"
   ]
  },
  {
   "cell_type": "code",
   "execution_count": 5,
   "id": "6970e6e6-754c-46c9-aede-aebff3e4f293",
   "metadata": {},
   "outputs": [],
   "source": [
    "import torch\n",
    "from torch import nn\n",
    "import torch.nn.functional as F\n",
    "import lightning as L\n",
    "import torchmetrics\n",
    "import torchvision\n",
    "from torchvision import datasets,transforms\n",
    "from torch.utils.data import DataLoader,random_split\n",
    "from torchvision.transforms import ToTensor\n",
    "from lightning.pytorch.callbacks.early_stopping import EarlyStopping\n",
    "from lightning.pytorch.callbacks import ModelCheckpoint\n",
    "from pytorch_lightning.loggers import TensorBoardLogger"
   ]
  },
  {
   "cell_type": "code",
   "execution_count": 6,
   "id": "3c004290",
   "metadata": {},
   "outputs": [],
   "source": [
    "logger = TensorBoardLogger(\"tb_logs\", name=\"basic_cnn_model\")"
   ]
  },
  {
   "cell_type": "markdown",
   "id": "552882df-537a-482e-94f7-79aa30813892",
   "metadata": {},
   "source": [
    "## Create Basic CNN model"
   ]
  },
  {
   "cell_type": "code",
   "execution_count": 7,
   "id": "6f68f60e-9029-428e-89c7-e1ca8b1098c1",
   "metadata": {},
   "outputs": [],
   "source": [
    "class CNNModel(L.LightningModule):\n",
    "    def __init__(self, input_shape,hidden_unit,output_shape=10):\n",
    "        super(CNNModel,self).__init__()\n",
    "        self.conv_block1 = nn.Sequential(\n",
    "            nn.Conv2d(in_channels = input_shape,\n",
    "                      out_channels = hidden_unit,\n",
    "                      kernel_size=3,\n",
    "                      stride =1,\n",
    "                      padding = 1),\n",
    "            nn.ReLU(),\n",
    "            nn.MaxPool2d(kernel_size=2,stride=2)\n",
    "        )\n",
    "\n",
    "        self.conv_block2 = nn.Sequential(    \n",
    "            nn.Conv2d(in_channels = hidden_unit,\n",
    "                      out_channels = hidden_unit,\n",
    "                      kernel_size=3,\n",
    "                      stride =1,\n",
    "                      padding = 1),\n",
    "            nn.ReLU(),\n",
    "            nn.MaxPool2d(kernel_size=2,stride=2)\n",
    "        )\n",
    "\n",
    "        self.conv_block3 = nn.Sequential( \n",
    "             nn.Conv2d(in_channels = hidden_unit,\n",
    "                      out_channels = hidden_unit,\n",
    "                      kernel_size=3,\n",
    "                      stride =1,\n",
    "                      padding = 1),\n",
    "            nn.ReLU(),\n",
    "            nn.MaxPool2d(kernel_size=2,stride=2),\n",
    "        )\n",
    "            \n",
    "        self.estimator = nn.Sequential(\n",
    "            nn.Linear(hidden_unit*20 * 20, 1024),\n",
    "            nn.ReLU(),\n",
    "            nn.Linear(1024, 512),\n",
    "            nn.ReLU(),\n",
    "            nn.Linear(512, 128),\n",
    "            nn.ReLU(),\n",
    "            nn.Linear(128, output_shape)\n",
    "        )\n",
    "\n",
    "        self.accuracy = torchmetrics.Accuracy(task=\"multiclass\", num_classes=output_shape)\n",
    "\n",
    "    def forward(self, x):\n",
    "        x = self.conv_block1(x)\n",
    "        x = self.conv_block2(x)\n",
    "        x = self.conv_block3(x)\n",
    "        x = x.view(x.shape[0], -1)\n",
    "\n",
    "        return self.estimator(x)\n",
    "\n",
    "    def training_step(self, batch, batch_idx):\n",
    "        x, y = batch\n",
    "        y_hat = self(x)\n",
    "        loss = F.cross_entropy(y_hat, y)\n",
    "        acc =self.accuracy(y_hat, y)\n",
    "        self.log(\"val_accuracy\", self.accuracy, prog_bar=True, logger=True)\n",
    "        self.log(\"train_loss\", loss, prog_bar=True, logger=True)\n",
    "        return loss\n",
    "\n",
    "    def validation_step(self, batch, batch_idx):\n",
    "        x, y = batch\n",
    "        y_hat = self(x)\n",
    "        loss = F.cross_entropy(y_hat, y)\n",
    "\n",
    "        acc=self.accuracy(y_hat, y)\n",
    "\n",
    "        self.log(\"val_accuracy\", self.accuracy, prog_bar=True, logger=True)\n",
    "        self.log(\"val_loss\", loss, prog_bar=True, logger=True)\n",
    "        return  loss\n",
    "\n",
    "    def test_step(self, batch, batch_idx):\n",
    "        x, y = batch\n",
    "        y_hat = self(x)\n",
    "        loss = F.cross_entropy(y_hat, y)\n",
    "\n",
    "        acc = self.accuracy(y_hat, y)\n",
    "\n",
    "        self.log(\"test_accuracy\", self.accuracy, prog_bar=True, logger=True)\n",
    "        self.log(\"test_loss\", loss, prog_bar=True, logger=True)\n",
    "        return  loss,acc\n",
    "\n",
    "    def configure_optimizers(self):\n",
    "        optimizer = torch.optim.Adam(self.parameters(), lr=1e-3)\n",
    "        return optimizer\n"
   ]
  },
  {
   "cell_type": "markdown",
   "id": "2e1907fc-cdee-4ba7-ad02-660ca8cbc1fa",
   "metadata": {},
   "source": [
    "## Load data and Preprocessing Data\n",
    "\n",
    "load data and augmentation it by rotation,translation and Flip"
   ]
  },
  {
   "cell_type": "code",
   "execution_count": 8,
   "id": "64c4bcda-4f7e-4cd2-89b1-4ff1b85b6289",
   "metadata": {},
   "outputs": [
    {
     "name": "stdout",
     "output_type": "stream",
     "text": [
      "test_dataset_download:False,test_dataset_download:False\n"
     ]
    },
    {
     "data": {
      "text/plain": [
       "(<torch.utils.data.dataloader.DataLoader at 0x7f4803910490>,\n",
       " Dataset Imagenette\n",
       "     Number of datapoints: 3925\n",
       "     Root location: data/imagenette/test/\n",
       "     StandardTransform\n",
       " Transform: Compose(\n",
       "                CenterCrop(size=(320, 320))\n",
       "                Resize(size=32, interpolation=bilinear, max_size=None, antialias=True)\n",
       "                RandomHorizontalFlip(p=0.5)\n",
       "                RandomRotation(degrees=[-10.0, 10.0], interpolation=nearest, expand=False, fill=0)\n",
       "                RandomAffine(degrees=[0.0, 0.0], translate=(0.1, 0.1))\n",
       "                ColorJitter(brightness=(0.8, 1.2), contrast=(0.8, 1.2), saturation=(0.8, 1.2), hue=(-0.2, 0.2))\n",
       "                ToTensor()\n",
       "                Normalize(mean=(0.4914, 0.4822, 0.4465), std=(0.247, 0.2435, 0.2616))\n",
       "            ),\n",
       " <torch.utils.data.dataloader.DataLoader at 0x7f4803910490>)"
      ]
     },
     "execution_count": 8,
     "metadata": {},
     "output_type": "execute_result"
    }
   ],
   "source": [
    "from pathlib import Path\n",
    "train_dataset_path= Path(\"data/imagenette/train\")\n",
    "test_dataset_path= Path(\"data/imagenette/test\")\n",
    "train_dataset_download=False if train_dataset_path.exists() else True\n",
    "test_dataset_download=False if test_dataset_path.exists() else True\n",
    "print(f\"test_dataset_download:{train_dataset_download},test_dataset_download:{test_dataset_download}\")\n",
    "\n",
    "train_transforms = transforms.Compose([\n",
    "    transforms.CenterCrop(320),\n",
    "    transforms.Resize(32),\n",
    "    \n",
    "    transforms.RandomHorizontalFlip(), \n",
    "    transforms.RandomRotation(10), \n",
    "    transforms.RandomAffine(degrees=0, translate=(0.1, 0.1)), \n",
    "    transforms.ColorJitter(brightness=0.2, contrast=0.2, saturation=0.2, hue=0.2), \n",
    "    \n",
    "    transforms.ToTensor(),\n",
    "    transforms.Normalize((0.4914, 0.4822, 0.4465), (0.2470, 0.2435, 0.2616)),\n",
    "    # transforms.Grayscale()\n",
    "])\n",
    "\n",
    "test_transforms = transforms.Compose([\n",
    "    transforms.CenterCrop(320),\n",
    "    transforms.Resize(32),\n",
    "\n",
    "    transforms.RandomHorizontalFlip(), \n",
    "    transforms.RandomRotation(10), \n",
    "    transforms.RandomAffine(degrees=0, translate=(0.1, 0.1)), \n",
    "    transforms.ColorJitter(brightness=0.2, contrast=0.2, saturation=0.2, hue=0.2),\n",
    "    \n",
    "    transforms.ToTensor(),\n",
    "    transforms.Normalize((0.4914, 0.4822, 0.4465), (0.2470, 0.2435, 0.2616)),\n",
    "    # transforms.Grayscale()\n",
    "])\n",
    "\n",
    "train_dataset = datasets.Imagenette(\n",
    "    root = 'data/imagenette/train/',\n",
    "    split = 'train',\n",
    "    size = '320px',\n",
    "    download = train_dataset_download,\n",
    "    transform= train_transforms,\n",
    "    target_transform = None)\n",
    "\n",
    "test_dataset = datasets.Imagenette(\n",
    "    root = 'data/imagenette/test/',\n",
    "    split = 'val',\n",
    "    size = '320px',\n",
    "    download = test_dataset_download,\n",
    "    transform= test_transforms,\n",
    "    target_transform = None)\n",
    "# Use 10% of the training set for validation\n",
    "train_set_size = int(len(train_dataset) * 0.9)\n",
    "val_set_size = len(train_dataset) - train_set_size\n",
    "\n",
    "seed = torch.Generator().manual_seed(42)\n",
    "train_dataset, val_dataset = random_split(train_dataset, [train_set_size, val_set_size], generator=seed)\n",
    "val_dataset.dataset.transform = test_transforms\n",
    "\n",
    "# Use DataLoader to load the dataset\n",
    "train_loader = DataLoader(train_dataset, batch_size=128, num_workers=8, shuffle=True)\n",
    "val_loader = DataLoader(val_dataset, batch_size=128, num_workers=8, shuffle=False)\n",
    "\n",
    "train_loader,test_dataset,train_loader"
   ]
  },
  {
   "cell_type": "code",
   "execution_count": 9,
   "id": "c4953b84-7039-4868-a934-4b7aea41347e",
   "metadata": {},
   "outputs": [
    {
     "data": {
      "text/plain": [
       "(8522, 3925, 947, torch.Size([128, 3, 32, 32]))"
      ]
     },
     "execution_count": 9,
     "metadata": {},
     "output_type": "execute_result"
    }
   ],
   "source": [
    "train_features_batch,train_labels_batch=next(iter(train_loader))\n",
    "len(train_dataset),len(test_dataset),len(val_dataset),train_features_batch.shape"
   ]
  },
  {
   "cell_type": "code",
   "execution_count": 10,
   "id": "b25588d2-1d3f-4cdc-9194-b77cd032460b",
   "metadata": {},
   "outputs": [],
   "source": [
    "cnnm_02 = ALLCNNCModel(input_shape=3,output_shape=10)\n",
    "\n",
    "# Add EarlyStopping\n",
    "early_stop_callback = EarlyStopping(monitor=\"val_loss\",\n",
    "                                    mode=\"min\",\n",
    "                                    patience=5)\n",
    "\n",
    "# Configure Checkpoints\n",
    "checkpoint_callback = ModelCheckpoint(\n",
    "    monitor=\"val_loss\",\n",
    "    mode=\"min\"\n",
    ")"
   ]
  },
  {
   "cell_type": "code",
   "execution_count": 11,
   "id": "6b776591-dbf7-4741-852e-6966d71a2408",
   "metadata": {},
   "outputs": [
    {
     "name": "stderr",
     "output_type": "stream",
     "text": [
      "GPU available: True (cuda), used: True\n",
      "TPU available: False, using: 0 TPU cores\n",
      "HPU available: False, using: 0 HPUs\n",
      "LOCAL_RANK: 0 - CUDA_VISIBLE_DEVICES: [0]\n",
      "\n",
      "  | Name        | Type               | Params | Mode \n",
      "-----------------------------------------------------------\n",
      "0 | conv_block1 | Sequential         | 168 K  | train\n",
      "1 | conv_block2 | Sequential         | 830 K  | train\n",
      "2 | conv_block3 | Sequential         | 370 K  | train\n",
      "3 | accuracy    | MulticlassAccuracy | 0      | train\n",
      "-----------------------------------------------------------\n",
      "1.4 M     Trainable params\n",
      "0         Non-trainable params\n",
      "1.4 M     Total params\n",
      "5.479     Total estimated model params size (MB)\n"
     ]
    },
    {
     "name": "stdout",
     "output_type": "stream",
     "text": [
      "Epoch 19: 100%|██████████| 67/67 [00:06<00:00, 10.76it/s, v_num=2, val_accuracy=0.416, train_loss=1.550, val_loss=1.760]"
     ]
    },
    {
     "name": "stderr",
     "output_type": "stream",
     "text": [
      "`Trainer.fit` stopped: `max_epochs=20` reached.\n"
     ]
    },
    {
     "name": "stdout",
     "output_type": "stream",
     "text": [
      "Epoch 19: 100%|██████████| 67/67 [00:06<00:00, 10.66it/s, v_num=2, val_accuracy=0.416, train_loss=1.550, val_loss=1.760]\n"
     ]
    }
   ],
   "source": [
    "# Fit the model\n",
    "trainer = L.Trainer(callbacks=[early_stop_callback, checkpoint_callback], max_epochs=20)\n",
    "trainer.fit(model=cnnm_02, train_dataloaders=train_loader, val_dataloaders=val_loader)"
   ]
  },
  {
   "cell_type": "code",
   "execution_count": 14,
   "id": "6ba98d39-9b8e-4904-b3be-bec231a5dfaf",
   "metadata": {},
   "outputs": [
    {
     "name": "stderr",
     "output_type": "stream",
     "text": [
      "LOCAL_RANK: 0 - CUDA_VISIBLE_DEVICES: [0]\n"
     ]
    },
    {
     "name": "stdout",
     "output_type": "stream",
     "text": [
      "Testing DataLoader 0: 100%|██████████| 16/16 [00:01<00:00, 13.76it/s]\n",
      "────────────────────────────────────────────────────────────────────────────────────────────────────────────────────────\n",
      "       Test metric             DataLoader 0\n",
      "────────────────────────────────────────────────────────────────────────────────────────────────────────────────────────\n",
      "      test_accuracy         0.4091719686985016\n",
      "        test_loss            1.717761516571045\n",
      "────────────────────────────────────────────────────────────────────────────────────────────────────────────────────────\n"
     ]
    },
    {
     "data": {
      "text/plain": [
       "[{'test_accuracy': 0.4091719686985016, 'test_loss': 1.717761516571045}]"
      ]
     },
     "execution_count": 14,
     "metadata": {},
     "output_type": "execute_result"
    }
   ],
   "source": [
    "# Evaluate the model on the test set\n",
    "test_loader = DataLoader(test_dataset, batch_size=256, num_workers=8, shuffle=False)\n",
    "trainer.test(model=cnnm_02, dataloaders=test_loader)"
   ]
  },
  {
   "cell_type": "code",
   "execution_count": 13,
   "id": "c93d0d0d-eb5f-46fd-a727-18fba0954dc4",
   "metadata": {},
   "outputs": [],
   "source": [
    "#save model\n",
    "MODEL_PATH = Path(\"models\")\n",
    "MODEL_PATH.mkdir(parents=True,exist_ok = True)\n",
    "MODEL_NAME = \"CNN_regulation_model.pth\"\n",
    "MODEL_SAVE_PATH = MODEL_PATH/MODEL_NAME\n",
    "torch.save(obj = cnnm_02.state_dict(),\n",
    "           f=MODEL_SAVE_PATH)"
   ]
  },
  {
   "cell_type": "code",
   "execution_count": null,
   "id": "5ecdee2c",
   "metadata": {},
   "outputs": [],
   "source": []
  }
 ],
 "metadata": {
  "kernelspec": {
   "display_name": "Python 3 (ipykernel)",
   "language": "python",
   "name": "python3"
  },
  "language_info": {
   "codemirror_mode": {
    "name": "ipython",
    "version": 3
   },
   "file_extension": ".py",
   "mimetype": "text/x-python",
   "name": "python",
   "nbconvert_exporter": "python",
   "pygments_lexer": "ipython3",
   "version": "3.10.14"
  }
 },
 "nbformat": 4,
 "nbformat_minor": 5
}
