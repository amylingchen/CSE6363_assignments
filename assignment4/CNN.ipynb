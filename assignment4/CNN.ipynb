{
 "cells": [
  {
   "cell_type": "code",
   "execution_count": 1,
   "id": "1943508f",
   "metadata": {
    "execution": {
     "iopub.execute_input": "2024-07-27T20:38:07.181126Z",
     "iopub.status.busy": "2024-07-27T20:38:07.180890Z",
     "iopub.status.idle": "2024-07-27T20:38:08.474781Z",
     "shell.execute_reply": "2024-07-27T20:38:08.474006Z",
     "shell.execute_reply.started": "2024-07-27T20:38:07.181097Z"
    }
   },
   "outputs": [],
   "source": [
    "# ! pip install pytorch-lightning"
   ]
  },
  {
   "cell_type": "code",
   "execution_count": 2,
   "id": "897176cd",
   "metadata": {
    "execution": {
     "iopub.execute_input": "2024-07-27T20:38:08.477031Z",
     "iopub.status.busy": "2024-07-27T20:38:08.476570Z",
     "iopub.status.idle": "2024-07-27T20:38:11.278979Z",
     "shell.execute_reply": "2024-07-27T20:38:11.278172Z",
     "shell.execute_reply.started": "2024-07-27T20:38:08.477003Z"
    }
   },
   "outputs": [],
   "source": [
    "# ! pip install tensorboard"
   ]
  },
  {
   "cell_type": "code",
   "execution_count": 3,
   "id": "6970e6e6-754c-46c9-aede-aebff3e4f293",
   "metadata": {
    "execution": {
     "iopub.execute_input": "2024-07-27T20:38:11.280447Z",
     "iopub.status.busy": "2024-07-27T20:38:11.280177Z",
     "iopub.status.idle": "2024-07-27T20:38:14.215822Z",
     "shell.execute_reply": "2024-07-27T20:38:14.214071Z",
     "shell.execute_reply.started": "2024-07-27T20:38:11.280421Z"
    }
   },
   "outputs": [],
   "source": [
    "import torch\n",
    "from torch import nn\n",
    "import torch.nn.functional as F\n",
    "import lightning as L\n",
    "import torchmetrics\n",
    "import torchvision\n",
    "from torchvision import datasets,transforms\n",
    "from torch.utils.data import DataLoader,random_split\n",
    "from torchvision.transforms import ToTensor\n",
    "from lightning.pytorch.callbacks.early_stopping import EarlyStopping\n",
    "from lightning.pytorch.callbacks import ModelCheckpoint\n",
    "from pytorch_lightning.loggers import TensorBoardLogger"
   ]
  },
  {
   "cell_type": "code",
   "execution_count": 4,
   "id": "3c004290",
   "metadata": {
    "execution": {
     "iopub.status.busy": "2024-07-27T20:38:14.216715Z",
     "iopub.status.idle": "2024-07-27T20:38:14.217104Z",
     "shell.execute_reply": "2024-07-27T20:38:14.216964Z",
     "shell.execute_reply.started": "2024-07-27T20:38:14.216949Z"
    }
   },
   "outputs": [],
   "source": [
    "logger = TensorBoardLogger(\"tb_logs\", name=\"basic_cnn_model\")"
   ]
  },
  {
   "cell_type": "markdown",
   "id": "552882df-537a-482e-94f7-79aa30813892",
   "metadata": {},
   "source": [
    "## Create Basic CNN model\n",
    "\n",
    "Create a basic CNN model with 3 blocks \n"
   ]
  },
  {
   "cell_type": "code",
   "execution_count": 5,
   "id": "2b2b00ef",
   "metadata": {
    "execution": {
     "iopub.status.busy": "2024-07-27T20:38:14.218240Z",
     "iopub.status.idle": "2024-07-27T20:38:14.218529Z",
     "shell.execute_reply": "2024-07-27T20:38:14.218400Z",
     "shell.execute_reply.started": "2024-07-27T20:38:14.218388Z"
    }
   },
   "outputs": [],
   "source": [
    "class CNNModel(L.LightningModule):\n",
    "    def __init__(self, input_shape,hidden_unit,output_shape=10):\n",
    "        super(CNNModel,self).__init__()\n",
    "        self.conv_block1 = nn.Sequential(\n",
    "            nn.Conv2d(in_channels = input_shape,\n",
    "                      out_channels = hidden_unit,\n",
    "                      kernel_size=3,\n",
    "                      stride =1,\n",
    "                      padding = 1),\n",
    "            nn.ReLU(),\n",
    "            nn.MaxPool2d(kernel_size=2,stride=2)\n",
    "        )\n",
    "\n",
    "        self.conv_block2 = nn.Sequential(    \n",
    "            nn.Conv2d(in_channels = hidden_unit,\n",
    "                      out_channels = hidden_unit,\n",
    "                      kernel_size=3,\n",
    "                      stride =1,\n",
    "                      padding = 1),\n",
    "            nn.ReLU(),\n",
    "            nn.MaxPool2d(kernel_size=2,stride=2)\n",
    "        )\n",
    "\n",
    "        self.conv_block3 = nn.Sequential( \n",
    "             nn.Conv2d(in_channels = hidden_unit,\n",
    "                      out_channels = hidden_unit,\n",
    "                      kernel_size=3,\n",
    "                      stride =1,\n",
    "                      padding = 1),\n",
    "            nn.ReLU(),\n",
    "            nn.MaxPool2d(kernel_size=2,stride=2),\n",
    "        )\n",
    "            \n",
    "        self.estimator = nn.Sequential(\n",
    "            nn.Linear(hidden_unit*20 * 20, 1024),\n",
    "            nn.ReLU(),\n",
    "            nn.Linear(1024, 512),\n",
    "            nn.ReLU(),\n",
    "            nn.Linear(512, 128),\n",
    "            nn.ReLU(),\n",
    "            nn.Linear(128, output_shape)\n",
    "        )\n",
    "\n",
    "        self.accuracy = torchmetrics.Accuracy(task=\"multiclass\", num_classes=output_shape)\n",
    "\n",
    "    def forward(self, x):\n",
    "        x = self.conv_block1(x)\n",
    "        x = self.conv_block2(x)\n",
    "        x = self.conv_block3(x)\n",
    "        x = x.view(x.shape[0], -1)\n",
    "\n",
    "        return self.estimator(x)\n",
    "\n",
    "    def training_step(self, batch, batch_idx):\n",
    "        x, y = batch\n",
    "        y_hat = self(x)\n",
    "        loss = F.cross_entropy(y_hat, y)\n",
    "        acc =self.accuracy(y_hat, y)\n",
    "        self.log(\"train_accuracy\", self.accuracy, prog_bar=True, logger=True)\n",
    "        self.log(\"train_loss\", loss, prog_bar=True, logger=True)\n",
    "        return loss\n",
    "\n",
    "    def validation_step(self, batch, batch_idx):\n",
    "        x, y = batch\n",
    "        y_hat = self(x)\n",
    "        loss = F.cross_entropy(y_hat, y)\n",
    "\n",
    "        acc=self.accuracy(y_hat, y)\n",
    "\n",
    "        self.log(\"val_accuracy\", self.accuracy, prog_bar=True, logger=True)\n",
    "        self.log(\"val_loss\", loss, prog_bar=True, logger=True)\n",
    "        return  loss\n",
    "\n",
    "    def test_step(self, batch, batch_idx):\n",
    "        x, y = batch\n",
    "        y_hat = self(x)\n",
    "        loss = F.cross_entropy(y_hat, y)\n",
    "\n",
    "        acc = self.accuracy(y_hat, y)\n",
    "\n",
    "        self.log(\"test_accuracy\", self.accuracy, prog_bar=True, logger=True)\n",
    "        self.log(\"test_loss\", loss, prog_bar=True, logger=True)\n",
    "        return  loss,acc\n",
    "\n",
    "    def configure_optimizers(self):\n",
    "        optimizer = torch.optim.Adam(self.parameters(), lr=1e-3)\n",
    "        return optimizer\n"
   ]
  },
  {
   "cell_type": "markdown",
   "id": "2e1907fc-cdee-4ba7-ad02-660ca8cbc1fa",
   "metadata": {},
   "source": [
    "## Load data and Preprocessing Data\n",
    "down load data\n",
    "split train data and validate data from train_data\n",
    "\n",
    "Convert the data from 160px to 64px and normalize it"
   ]
  },
  {
   "cell_type": "code",
   "execution_count": 6,
   "id": "64c4bcda-4f7e-4cd2-89b1-4ff1b85b6289",
   "metadata": {
    "ExecutionIndicator": {
     "show": true
    },
    "execution": {
     "iopub.status.busy": "2024-07-27T20:38:14.219456Z",
     "iopub.status.idle": "2024-07-27T20:38:14.219753Z",
     "shell.execute_reply": "2024-07-27T20:38:14.219613Z",
     "shell.execute_reply.started": "2024-07-27T20:38:14.219600Z"
    },
    "tags": []
   },
   "outputs": [
    {
     "name": "stdout",
     "output_type": "stream",
     "text": [
      "test_dataset_download:False,test_dataset_download:False\n"
     ]
    },
    {
     "data": {
      "text/plain": [
       "(<torch.utils.data.dataloader.DataLoader at 0x7f6aca6e4a60>,\n",
       " Dataset Imagenette\n",
       "     Number of datapoints: 3925\n",
       "     Root location: data/imagenette/test/\n",
       "     StandardTransform\n",
       " Transform: Compose(\n",
       "                CenterCrop(size=(320, 320))\n",
       "                Resize(size=160, interpolation=bilinear, max_size=None, antialias=True)\n",
       "                ToTensor()\n",
       "                Normalize(mean=(0.4914, 0.4822, 0.4465), std=(0.247, 0.2435, 0.2616))\n",
       "            ),\n",
       " <torch.utils.data.dataloader.DataLoader at 0x7f6aca6e4a60>)"
      ]
     },
     "execution_count": 6,
     "metadata": {},
     "output_type": "execute_result"
    }
   ],
   "source": [
    "from pathlib import Path\n",
    "train_dataset_path= Path(\"data/imagenette/train\")\n",
    "test_dataset_path= Path(\"data/imagenette/test\")\n",
    "train_dataset_download=False if train_dataset_path.exists() else True\n",
    "test_dataset_download=False if test_dataset_path.exists() else True\n",
    "print(f\"test_dataset_download:{train_dataset_download},test_dataset_download:{test_dataset_download}\")\n",
    "\n",
    "train_transforms = transforms.Compose([\n",
    "    transforms.CenterCrop(320),\n",
    "    transforms.Resize(160),\n",
    "    \n",
    "    transforms.ToTensor(),\n",
    "    transforms.Normalize((0.4914, 0.4822, 0.4465), (0.2470, 0.2435, 0.2616)),\n",
    "    # transforms.Grayscale()\n",
    "])\n",
    "\n",
    "test_transforms = transforms.Compose([\n",
    "    transforms.CenterCrop(320),\n",
    "    transforms.Resize(160),\n",
    "\n",
    "    transforms.ToTensor(),\n",
    "    transforms.Normalize((0.4914, 0.4822, 0.4465), (0.2470, 0.2435, 0.2616)),\n",
    "    # transforms.Grayscale()\n",
    "])\n",
    "\n",
    "train_dataset = datasets.Imagenette(\n",
    "    root = 'data/imagenette/train/',\n",
    "    split = 'train',\n",
    "    size = '320px',\n",
    "    download = train_dataset_download,\n",
    "    transform= train_transforms,\n",
    "    target_transform = None)\n",
    "\n",
    "test_dataset = datasets.Imagenette(\n",
    "    root = 'data/imagenette/test/',\n",
    "    split = 'val',\n",
    "    size = '320px',\n",
    "    download = test_dataset_download,\n",
    "    transform= test_transforms,\n",
    "    target_transform = None)\n",
    "# Use 10% of the training set for validation\n",
    "train_set_size = int(len(train_dataset) * 0.9)\n",
    "val_set_size = len(train_dataset) - train_set_size\n",
    "\n",
    "seed = torch.Generator().manual_seed(42)\n",
    "\n",
    "\n",
    "train_dataset, val_dataset = random_split(train_dataset, [train_set_size, val_set_size], generator=seed)\n",
    "val_dataset.dataset.transform = test_transforms\n",
    "\n",
    "# Use DataLoader to load the dataset\n",
    "train_loader = DataLoader(train_dataset, batch_size=128, num_workers=8, shuffle=True, persistent_workers=True)\n",
    "val_loader = DataLoader(val_dataset, batch_size=128, num_workers=8, shuffle=False, persistent_workers=True)\n",
    "\n",
    "train_loader,test_dataset,train_loader"
   ]
  },
  {
   "cell_type": "code",
   "execution_count": 7,
   "id": "2117c395",
   "metadata": {
    "execution": {
     "iopub.status.busy": "2024-07-27T20:38:14.220813Z",
     "iopub.status.idle": "2024-07-27T20:38:14.221092Z",
     "shell.execute_reply": "2024-07-27T20:38:14.220966Z",
     "shell.execute_reply.started": "2024-07-27T20:38:14.220954Z"
    }
   },
   "outputs": [
    {
     "data": {
      "text/plain": [
       "(8522, 3925, 947, torch.Size([128, 3, 160, 160]))"
      ]
     },
     "execution_count": 7,
     "metadata": {},
     "output_type": "execute_result"
    }
   ],
   "source": [
    "train_features_batch,train_labels_batch=next(iter(train_loader))\n",
    "len(train_dataset),len(test_dataset),len(val_dataset),train_features_batch.shape"
   ]
  },
  {
   "cell_type": "code",
   "execution_count": 8,
   "id": "b25588d2-1d3f-4cdc-9194-b77cd032460b",
   "metadata": {
    "execution": {
     "iopub.status.busy": "2024-07-27T20:38:14.222119Z",
     "iopub.status.idle": "2024-07-27T20:38:14.222423Z",
     "shell.execute_reply": "2024-07-27T20:38:14.222295Z",
     "shell.execute_reply.started": "2024-07-27T20:38:14.222282Z"
    }
   },
   "outputs": [],
   "source": [
    "cnnm_01 = CNNModel(input_shape=3,hidden_unit=20,output_shape=10)\n",
    "\n",
    "# Add EarlyStopping\n",
    "early_stop_callback = EarlyStopping(monitor=\"val_loss\",\n",
    "                                    mode=\"min\",\n",
    "                                    patience=5)\n",
    "\n",
    "# Configure Checkpoints\n",
    "checkpoint_callback = ModelCheckpoint(\n",
    "    monitor=\"val_loss\",\n",
    "    mode=\"min\"\n",
    ")\n"
   ]
  },
  {
   "cell_type": "code",
   "execution_count": 9,
   "id": "6b776591-dbf7-4741-852e-6966d71a2408",
   "metadata": {
    "execution": {
     "iopub.status.busy": "2024-07-27T20:38:14.223218Z",
     "iopub.status.idle": "2024-07-27T20:38:14.223498Z",
     "shell.execute_reply": "2024-07-27T20:38:14.223371Z",
     "shell.execute_reply.started": "2024-07-27T20:38:14.223359Z"
    }
   },
   "outputs": [
    {
     "name": "stderr",
     "output_type": "stream",
     "text": [
      "GPU available: True (cuda), used: True\n",
      "TPU available: False, using: 0 TPU cores\n",
      "HPU available: False, using: 0 HPUs\n",
      "/mnt/workspace/myenv/lib/python3.10/site-packages/lightning/pytorch/loops/utilities.py:73: `max_epochs` was not set. Setting it to 1000 epochs. To train without an epoch limit, set `max_epochs=-1`.\n",
      "LOCAL_RANK: 0 - CUDA_VISIBLE_DEVICES: [0]\n"
     ]
    },
    {
     "name": "stderr",
     "output_type": "stream",
     "text": [
      "\n",
      "  | Name        | Type               | Params | Mode \n",
      "-----------------------------------------------------------\n",
      "0 | conv_block1 | Sequential         | 560    | train\n",
      "1 | conv_block2 | Sequential         | 3.6 K  | train\n",
      "2 | conv_block3 | Sequential         | 3.6 K  | train\n",
      "3 | estimator   | Sequential         | 8.8 M  | train\n",
      "4 | accuracy    | MulticlassAccuracy | 0      | train\n",
      "-----------------------------------------------------------\n",
      "8.8 M     Trainable params\n",
      "0         Non-trainable params\n",
      "8.8 M     Total params\n",
      "35.170    Total estimated model params size (MB)\n"
     ]
    },
    {
     "name": "stdout",
     "output_type": "stream",
     "text": [
      "Epoch 10: 100%|██████████| 67/67 [00:06<00:00,  9.99it/s, v_num=0, train_accuracy=0.959, train_loss=0.100, val_accuracy=0.949, val_loss=2.060] \n"
     ]
    }
   ],
   "source": [
    "# Fit the model\n",
    "trainer = L.Trainer(callbacks=[early_stop_callback, checkpoint_callback], logger=logger)\n",
    "trainer.fit(model=cnnm_01, train_dataloaders=train_loader, val_dataloaders=val_loader)"
   ]
  },
  {
   "cell_type": "code",
   "execution_count": 10,
   "id": "6ba98d39-9b8e-4904-b3be-bec231a5dfaf",
   "metadata": {
    "ExecutionIndicator": {
     "show": true
    },
    "execution": {
     "iopub.status.busy": "2024-07-27T20:38:14.224312Z",
     "iopub.status.idle": "2024-07-27T20:38:14.224588Z",
     "shell.execute_reply": "2024-07-27T20:38:14.224463Z",
     "shell.execute_reply.started": "2024-07-27T20:38:14.224451Z"
    },
    "tags": []
   },
   "outputs": [
    {
     "name": "stderr",
     "output_type": "stream",
     "text": [
      "LOCAL_RANK: 0 - CUDA_VISIBLE_DEVICES: [0]\n"
     ]
    },
    {
     "name": "stdout",
     "output_type": "stream",
     "text": [
      "Testing DataLoader 0: 100%|██████████| 16/16 [00:01<00:00, 10.05it/s]\n",
      "────────────────────────────────────────────────────────────────────────────────────────────────────────────────────────\n",
      "       Test metric             DataLoader 0\n",
      "────────────────────────────────────────────────────────────────────────────────────────────────────────────────────────\n",
      "      test_accuracy         0.6157961487770081\n",
      "        test_loss            2.185946226119995\n",
      "────────────────────────────────────────────────────────────────────────────────────────────────────────────────────────\n"
     ]
    },
    {
     "data": {
      "text/plain": [
       "[{'test_accuracy': 0.6157961487770081, 'test_loss': 2.185946226119995}]"
      ]
     },
     "execution_count": 10,
     "metadata": {},
     "output_type": "execute_result"
    }
   ],
   "source": [
    "# Evaluate the model on the test set\n",
    "test_loader = torch.utils.data.DataLoader(test_dataset, batch_size=256, num_workers=8, shuffle=False, persistent_workers=True)\n",
    "trainer.test(model=cnnm_01, dataloaders=test_loader)"
   ]
  },
  {
   "cell_type": "code",
   "execution_count": 11,
   "id": "c93d0d0d-eb5f-46fd-a727-18fba0954dc4",
   "metadata": {
    "execution": {
     "iopub.status.busy": "2024-07-27T20:38:14.225757Z",
     "iopub.status.idle": "2024-07-27T20:38:14.226037Z",
     "shell.execute_reply": "2024-07-27T20:38:14.225911Z",
     "shell.execute_reply.started": "2024-07-27T20:38:14.225898Z"
    }
   },
   "outputs": [],
   "source": [
    "#save model\n",
    "MODEL_PATH = Path(\"models\")\n",
    "MODEL_PATH.mkdir(parents=True,exist_ok = True)\n",
    "MODEL_NAME = \"CNN_basic_model_01.pth\"\n",
    "MODEL_SAVE_PATH = MODEL_PATH/MODEL_NAME\n",
    "torch.save(obj = cnnm_01.state_dict(),\n",
    "           f=MODEL_SAVE_PATH)"
   ]
  },
  {
   "cell_type": "markdown",
   "id": "81bda503",
   "metadata": {},
   "source": [
    "## Regularization\n",
    "### Load data and Preprocessing Data\n",
    "\n",
    "load data and augmentation it by rotation,translation and Flip"
   ]
  },
  {
   "cell_type": "code",
   "execution_count": 12,
   "id": "2cf90f9c",
   "metadata": {
    "ExecutionIndicator": {
     "show": true
    },
    "execution": {
     "iopub.status.busy": "2024-07-27T20:38:14.227240Z",
     "iopub.status.idle": "2024-07-27T20:38:14.227526Z",
     "shell.execute_reply": "2024-07-27T20:38:14.227395Z",
     "shell.execute_reply.started": "2024-07-27T20:38:14.227382Z"
    },
    "tags": []
   },
   "outputs": [
    {
     "name": "stdout",
     "output_type": "stream",
     "text": [
      "test_dataset_download:False,test_dataset_download:False\n"
     ]
    },
    {
     "data": {
      "text/plain": [
       "(<torch.utils.data.dataloader.DataLoader at 0x7f6aca6ab970>,\n",
       " Dataset Imagenette\n",
       "     Number of datapoints: 3925\n",
       "     Root location: data/imagenette/test/\n",
       "     StandardTransform\n",
       " Transform: Compose(\n",
       "                CenterCrop(size=(320, 320))\n",
       "                Resize(size=160, interpolation=bilinear, max_size=None, antialias=True)\n",
       "                RandomHorizontalFlip(p=0.5)\n",
       "                RandomRotation(degrees=[-10.0, 10.0], interpolation=nearest, expand=False, fill=0)\n",
       "                RandomAffine(degrees=[0.0, 0.0], translate=(0.1, 0.1))\n",
       "                ToTensor()\n",
       "                Normalize(mean=(0.4914, 0.4822, 0.4465), std=(0.247, 0.2435, 0.2616))\n",
       "            ),\n",
       " <torch.utils.data.dataloader.DataLoader at 0x7f6aca6ab970>)"
      ]
     },
     "execution_count": 12,
     "metadata": {},
     "output_type": "execute_result"
    }
   ],
   "source": [
    "\n",
    "train_dataset_path= Path(\"data/imagenette/train\")\n",
    "test_dataset_path= Path(\"data/imagenette/test\")\n",
    "train_dataset_download=False if train_dataset_path.exists() else True\n",
    "test_dataset_download=False if test_dataset_path.exists() else True\n",
    "print(f\"test_dataset_download:{train_dataset_download},test_dataset_download:{test_dataset_download}\")\n",
    "\n",
    "train_transforms = transforms.Compose([\n",
    "    transforms.CenterCrop(320),\n",
    "    transforms.Resize(160),\n",
    "    \n",
    "    transforms.RandomHorizontalFlip(), \n",
    "    transforms.RandomRotation(10), \n",
    "    transforms.RandomAffine(degrees=0, translate=(0.1, 0.1)), \n",
    "    # transforms.ColorJitter(brightness=0.2, contrast=0.2, saturation=0.2, hue=0.2), \n",
    "    \n",
    "    transforms.ToTensor(),\n",
    "    transforms.Normalize((0.4914, 0.4822, 0.4465), (0.2470, 0.2435, 0.2616)),\n",
    "    # transforms.Grayscale()\n",
    "])\n",
    "\n",
    "test_transforms = transforms.Compose([\n",
    "    transforms.CenterCrop(320),\n",
    "    transforms.Resize(160),\n",
    "\n",
    "    transforms.RandomHorizontalFlip(), \n",
    "    transforms.RandomRotation(10), \n",
    "    transforms.RandomAffine(degrees=0, translate=(0.1, 0.1)), \n",
    "    # transforms.ColorJitter(brightness=0.2, contrast=0.2, saturation=0.2, hue=0.2),\n",
    "    \n",
    "    transforms.ToTensor(),\n",
    "    transforms.Normalize((0.4914, 0.4822, 0.4465), (0.2470, 0.2435, 0.2616)),\n",
    "    # transforms.Grayscale()\n",
    "])\n",
    "\n",
    "aug_train_dataset = datasets.Imagenette(\n",
    "    root = 'data/imagenette/train/',\n",
    "    split = 'train',\n",
    "    size = '320px',\n",
    "    download = train_dataset_download,\n",
    "    transform= train_transforms,\n",
    "    target_transform = None)\n",
    "\n",
    "aug_test_dataset = datasets.Imagenette(\n",
    "    root = 'data/imagenette/test/',\n",
    "    split = 'val',\n",
    "    size = '320px',\n",
    "    download = test_dataset_download,\n",
    "    transform= test_transforms,\n",
    "    target_transform = None)\n",
    "# Use 10% of the training set for validation\n",
    "train_set_size = int(len(aug_train_dataset) * 0.9)\n",
    "val_set_size = len(aug_train_dataset) - train_set_size\n",
    "\n",
    "seed = torch.Generator().manual_seed(42)\n",
    "\n",
    "aug_train_dataset, aug_val_dataset = random_split(aug_train_dataset, [train_set_size, val_set_size], generator=seed)\n",
    "aug_val_dataset.dataset.transform = test_transforms\n",
    "\n",
    "# Use DataLoader to load the dataset\n",
    "aug_train_loader = DataLoader(aug_train_dataset, batch_size=128, num_workers=8, shuffle=True, persistent_workers=True)\n",
    "aug_val_loader = DataLoader(aug_val_dataset, batch_size=128, num_workers=8, shuffle=False, persistent_workers=True)\n",
    "\n",
    "aug_train_loader,aug_test_dataset,aug_train_loader"
   ]
  },
  {
   "cell_type": "code",
   "execution_count": 13,
   "id": "7a2ca07c",
   "metadata": {
    "execution": {
     "iopub.status.busy": "2024-07-27T20:38:14.228234Z",
     "iopub.status.idle": "2024-07-27T20:38:14.228510Z",
     "shell.execute_reply": "2024-07-27T20:38:14.228385Z",
     "shell.execute_reply.started": "2024-07-27T20:38:14.228373Z"
    }
   },
   "outputs": [],
   "source": [
    "cnnm_02 = CNNModel(input_shape=3,hidden_unit=20,output_shape=10)\n",
    "\n",
    "# Add EarlyStopping\n",
    "early_stop_callback = EarlyStopping(monitor=\"val_loss\",\n",
    "                                    mode=\"min\",\n",
    "                                    patience=5)\n",
    "\n",
    "# Configure Checkpoints\n",
    "checkpoint_callback = ModelCheckpoint(\n",
    "    monitor=\"val_loss\",\n",
    "    mode=\"min\"\n",
    ")"
   ]
  },
  {
   "cell_type": "code",
   "execution_count": 14,
   "id": "e9f3a6d3",
   "metadata": {
    "execution": {
     "iopub.status.busy": "2024-07-27T20:38:14.229453Z",
     "iopub.status.idle": "2024-07-27T20:38:14.229739Z",
     "shell.execute_reply": "2024-07-27T20:38:14.229605Z",
     "shell.execute_reply.started": "2024-07-27T20:38:14.229593Z"
    }
   },
   "outputs": [
    {
     "name": "stderr",
     "output_type": "stream",
     "text": [
      "GPU available: True (cuda), used: True\n",
      "TPU available: False, using: 0 TPU cores\n",
      "HPU available: False, using: 0 HPUs\n",
      "/mnt/workspace/myenv/lib/python3.10/site-packages/lightning/pytorch/callbacks/model_checkpoint.py:652: Checkpoint directory tb_logs/basic_cnn_model/version_0/checkpoints exists and is not empty.\n",
      "LOCAL_RANK: 0 - CUDA_VISIBLE_DEVICES: [0]\n",
      "\n",
      "  | Name        | Type               | Params | Mode \n",
      "-----------------------------------------------------------\n",
      "0 | conv_block1 | Sequential         | 560    | train\n",
      "1 | conv_block2 | Sequential         | 3.6 K  | train\n",
      "2 | conv_block3 | Sequential         | 3.6 K  | train\n",
      "3 | estimator   | Sequential         | 8.8 M  | train\n",
      "4 | accuracy    | MulticlassAccuracy | 0      | train\n",
      "-----------------------------------------------------------\n",
      "8.8 M     Trainable params\n",
      "0         Non-trainable params\n",
      "8.8 M     Total params\n",
      "35.170    Total estimated model params size (MB)\n"
     ]
    },
    {
     "name": "stdout",
     "output_type": "stream",
     "text": [
      "Epoch 19: 100%|██████████| 67/67 [00:07<00:00,  8.93it/s, v_num=0, train_accuracy=0.811, train_loss=0.439, val_accuracy=0.784, val_loss=0.963]"
     ]
    },
    {
     "name": "stderr",
     "output_type": "stream",
     "text": [
      "`Trainer.fit` stopped: `max_epochs=20` reached.\n"
     ]
    },
    {
     "name": "stdout",
     "output_type": "stream",
     "text": [
      "Epoch 19: 100%|██████████| 67/67 [00:07<00:00,  8.92it/s, v_num=0, train_accuracy=0.811, train_loss=0.439, val_accuracy=0.784, val_loss=0.963]\n"
     ]
    }
   ],
   "source": [
    "trainer = L.Trainer(callbacks=[early_stop_callback, checkpoint_callback], max_epochs=20,logger=logger)\n",
    "trainer.fit(model=cnnm_02, train_dataloaders=aug_train_loader, val_dataloaders=aug_val_loader)\n"
   ]
  },
  {
   "cell_type": "code",
   "execution_count": 20,
   "id": "2a99ff71",
   "metadata": {
    "ExecutionIndicator": {
     "show": true
    },
    "execution": {
     "iopub.status.busy": "2024-07-27T20:38:14.230884Z",
     "iopub.status.idle": "2024-07-27T20:38:14.231184Z",
     "shell.execute_reply": "2024-07-27T20:38:14.231037Z",
     "shell.execute_reply.started": "2024-07-27T20:38:14.231024Z"
    },
    "tags": []
   },
   "outputs": [
    {
     "name": "stderr",
     "output_type": "stream",
     "text": [
      "LOCAL_RANK: 0 - CUDA_VISIBLE_DEVICES: [0]\n"
     ]
    },
    {
     "name": "stdout",
     "output_type": "stream",
     "text": [
      "Testing DataLoader 0: 100%|██████████| 16/16 [00:02<00:00,  7.91it/s]\n",
      "────────────────────────────────────────────────────────────────────────────────────────────────────────────────────────\n",
      "       Test metric             DataLoader 0\n",
      "────────────────────────────────────────────────────────────────────────────────────────────────────────────────────────\n",
      "      test_accuracy         0.7024203538894653\n",
      "        test_loss           0.9973710179328918\n",
      "────────────────────────────────────────────────────────────────────────────────────────────────────────────────────────\n"
     ]
    },
    {
     "data": {
      "text/plain": [
       "[{'test_accuracy': 0.7024203538894653, 'test_loss': 0.9973710179328918}]"
      ]
     },
     "execution_count": 20,
     "metadata": {},
     "output_type": "execute_result"
    }
   ],
   "source": [
    "# Evaluate the model on the test set\n",
    "aug_test_loader = DataLoader(aug_test_dataset, batch_size=256, num_workers=8, shuffle=False, persistent_workers=True)\n",
    "trainer.test(model=cnnm_02, dataloaders=aug_test_loader)"
   ]
  },
  {
   "cell_type": "code",
   "execution_count": 16,
   "id": "9cc78b8f",
   "metadata": {
    "execution": {
     "iopub.status.busy": "2024-07-27T20:38:14.232397Z",
     "iopub.status.idle": "2024-07-27T20:38:14.232693Z",
     "shell.execute_reply": "2024-07-27T20:38:14.232553Z",
     "shell.execute_reply.started": "2024-07-27T20:38:14.232541Z"
    }
   },
   "outputs": [],
   "source": [
    "#save model\n",
    "MODEL_PATH = Path(\"models\")\n",
    "MODEL_PATH.mkdir(parents=True,exist_ok = True)\n",
    "MODEL_NAME = \"CNN_regulation_model.pth\"\n",
    "MODEL_SAVE_PATH = MODEL_PATH/MODEL_NAME\n",
    "torch.save(obj = cnnm_02.state_dict(),\n",
    "           f=MODEL_SAVE_PATH)"
   ]
  },
  {
   "cell_type": "code",
   "execution_count": null,
   "id": "c8da54d5",
   "metadata": {},
   "outputs": [],
   "source": []
  }
 ],
 "metadata": {
  "kernelspec": {
   "display_name": "Python 3 (ipykernel)",
   "language": "python",
   "name": "python3"
  },
  "language_info": {
   "codemirror_mode": {
    "name": "ipython",
    "version": 3
   },
   "file_extension": ".py",
   "mimetype": "text/x-python",
   "name": "python",
   "nbconvert_exporter": "python",
   "pygments_lexer": "ipython3",
   "version": "3.10.14"
  }
 },
 "nbformat": 4,
 "nbformat_minor": 5
}
